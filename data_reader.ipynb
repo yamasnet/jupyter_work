{
 "cells": [
  {
   "cell_type": "code",
   "execution_count": 3,
   "metadata": {},
   "outputs": [],
   "source": [
    "import pandas as pd\n",
    "import pandas_datareader.data as web\n",
    "import datetime\n",
    "import mpl_finance\n",
    "import matplotlib.pyplot as plt\n",
    "from matplotlib.dates import date2num"
   ]
  },
  {
   "cell_type": "code",
   "execution_count": 4,
   "metadata": {},
   "outputs": [
    {
     "data": {
      "text/html": [
       "<div>\n",
       "<style scoped>\n",
       "    .dataframe tbody tr th:only-of-type {\n",
       "        vertical-align: middle;\n",
       "    }\n",
       "\n",
       "    .dataframe tbody tr th {\n",
       "        vertical-align: top;\n",
       "    }\n",
       "\n",
       "    .dataframe thead th {\n",
       "        text-align: right;\n",
       "    }\n",
       "</style>\n",
       "<table border=\"1\" class=\"dataframe\">\n",
       "  <thead>\n",
       "    <tr style=\"text-align: right;\">\n",
       "      <th></th>\n",
       "      <th>High</th>\n",
       "      <th>Low</th>\n",
       "      <th>Open</th>\n",
       "      <th>Close</th>\n",
       "      <th>Volume</th>\n",
       "      <th>Adj Close</th>\n",
       "    </tr>\n",
       "    <tr>\n",
       "      <th>Date</th>\n",
       "      <th></th>\n",
       "      <th></th>\n",
       "      <th></th>\n",
       "      <th></th>\n",
       "      <th></th>\n",
       "      <th></th>\n",
       "    </tr>\n",
       "  </thead>\n",
       "  <tbody>\n",
       "    <tr>\n",
       "      <th>2019-02-28</th>\n",
       "      <td>60.070000</td>\n",
       "      <td>59.150002</td>\n",
       "      <td>59.509998</td>\n",
       "      <td>59.200001</td>\n",
       "      <td>146300</td>\n",
       "      <td>59.023529</td>\n",
       "    </tr>\n",
       "    <tr>\n",
       "      <th>2019-03-01</th>\n",
       "      <td>61.160000</td>\n",
       "      <td>59.560001</td>\n",
       "      <td>59.619999</td>\n",
       "      <td>60.270000</td>\n",
       "      <td>118000</td>\n",
       "      <td>60.090336</td>\n",
       "    </tr>\n",
       "    <tr>\n",
       "      <th>2019-03-04</th>\n",
       "      <td>60.840000</td>\n",
       "      <td>59.480000</td>\n",
       "      <td>60.209999</td>\n",
       "      <td>60.540001</td>\n",
       "      <td>116600</td>\n",
       "      <td>60.359531</td>\n",
       "    </tr>\n",
       "    <tr>\n",
       "      <th>2019-03-05</th>\n",
       "      <td>61.080002</td>\n",
       "      <td>60.360001</td>\n",
       "      <td>60.639999</td>\n",
       "      <td>61.009998</td>\n",
       "      <td>113700</td>\n",
       "      <td>60.828125</td>\n",
       "    </tr>\n",
       "    <tr>\n",
       "      <th>2019-03-06</th>\n",
       "      <td>61.340000</td>\n",
       "      <td>60.259998</td>\n",
       "      <td>61.070000</td>\n",
       "      <td>60.380001</td>\n",
       "      <td>237600</td>\n",
       "      <td>60.200012</td>\n",
       "    </tr>\n",
       "  </tbody>\n",
       "</table>\n",
       "</div>"
      ],
      "text/plain": [
       "                 High        Low       Open      Close  Volume  Adj Close\n",
       "Date                                                                     \n",
       "2019-02-28  60.070000  59.150002  59.509998  59.200001  146300  59.023529\n",
       "2019-03-01  61.160000  59.560001  59.619999  60.270000  118000  60.090336\n",
       "2019-03-04  60.840000  59.480000  60.209999  60.540001  116600  60.359531\n",
       "2019-03-05  61.080002  60.360001  60.639999  61.009998  113700  60.828125\n",
       "2019-03-06  61.340000  60.259998  61.070000  60.380001  237600  60.200012"
      ]
     },
     "execution_count": 4,
     "metadata": {},
     "output_type": "execute_result"
    }
   ],
   "source": [
    "#データの読み込み\n",
    "start = datetime.datetime(2019,3,1)\n",
    "end = datetime.datetime(2019,3,31)\n",
    "#df = pd.read_csv('./日経平均データ.csv')\n",
    "df = web.DataReader('MTX', 'yahoo', start, end)\n",
    "df.head()"
   ]
  },
  {
   "cell_type": "code",
   "execution_count": null,
   "metadata": {},
   "outputs": [],
   "source": []
  }
 ],
 "metadata": {
  "kernelspec": {
   "display_name": "Python 3",
   "language": "python",
   "name": "python3"
  },
  "language_info": {
   "codemirror_mode": {
    "name": "ipython",
    "version": 3
   },
   "file_extension": ".py",
   "mimetype": "text/x-python",
   "name": "python",
   "nbconvert_exporter": "python",
   "pygments_lexer": "ipython3",
   "version": "3.7.4"
  }
 },
 "nbformat": 4,
 "nbformat_minor": 4
}
